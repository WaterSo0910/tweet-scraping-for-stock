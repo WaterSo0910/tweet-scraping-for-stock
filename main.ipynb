{
 "cells": [
  {
   "cell_type": "code",
   "execution_count": 1,
   "metadata": {},
   "outputs": [],
   "source": [
    "import twint\n",
    "# Instantiate and configure the twint-object\n",
    "c = twint.Config()\n",
    "\n"
   ]
  },
  {
   "cell_type": "code",
   "execution_count": 2,
   "metadata": {},
   "outputs": [],
   "source": [
    "import nest_asyncio\n",
    "nest_asyncio.apply()"
   ]
  },
  {
   "cell_type": "code",
   "execution_count": 3,
   "metadata": {},
   "outputs": [
    {
     "data": {
      "text/plain": [
       "Index(['2021-11-30', '2021-12-01', '2021-12-02', '2021-12-03', '2021-12-04',\n",
       "       '2021-12-05', '2021-12-06', '2021-12-07', '2021-12-08', '2021-12-09',\n",
       "       '2021-12-10', '2021-12-11', '2021-12-12', '2021-12-13', '2021-12-14',\n",
       "       '2021-12-15', '2021-12-16', '2021-12-17', '2021-12-18', '2021-12-19',\n",
       "       '2021-12-20', '2021-12-21', '2021-12-22', '2021-12-23', '2021-12-24',\n",
       "       '2021-12-25', '2021-12-26', '2021-12-27', '2021-12-28', '2021-12-29',\n",
       "       '2021-12-30', '2021-12-31'],\n",
       "      dtype='object')"
      ]
     },
     "execution_count": 3,
     "metadata": {},
     "output_type": "execute_result"
    }
   ],
   "source": [
    "from datetime import date, timedelta\n",
    "import pandas as pd\n",
    "year = 2021\n",
    "month = 12\n",
    "target = 'AMZN'\n",
    "startDate = date(year, month, 1)\n",
    "endDate = date(year if month!=12 else year+1, month+1 if month!=12 else 1 , 1)\n",
    "\n",
    "Dates = pd.date_range(startDate-timedelta(days=1),endDate-timedelta(days=1),freq='d').strftime('%Y-%m-%d')\n",
    "Dates"
   ]
  },
  {
   "cell_type": "code",
   "execution_count": 4,
   "metadata": {},
   "outputs": [],
   "source": [
    "year_month = Dates[-1][:7]"
   ]
  },
  {
   "cell_type": "code",
   "execution_count": 5,
   "metadata": {},
   "outputs": [],
   "source": [
    "import os\n",
    "dirname = os.getcwd()\n",
    "filename = os.path.join(dirname+'\\\\data', target)\n",
    "\n",
    "if not os.path.exists(filename):\n",
    "    os.mkdir(filename)\n",
    "    \n",
    "filename = os.path.join(filename, year_month)\n",
    "if not os.path.exists(filename):\n",
    "    os.mkdir(filename)"
   ]
  },
  {
   "cell_type": "code",
   "execution_count": null,
   "metadata": {},
   "outputs": [],
   "source": [
    "# Run search\n",
    "c.Hide_output = False\n",
    "for i, d in enumerate(Dates):\n",
    "    if i+1 == len(Dates):\n",
    "        continue\n",
    "    c.Store_csv = True\n",
    "    c.Since = Dates[i]\n",
    "    c.Until = Dates[i+1]\n",
    "    c.Search = target\n",
    "    print(c.Until)\n",
    "    c.Limit = 10\n",
    "    c.Output = f\"./data/{target}/{year_month}/Tweets_{c.Search}_{c.Until}_max={c.Limit}.csv\"\n",
    "    c.Lang = 'en'\n",
    "\n",
    "    twint.run.Search(c)"
   ]
  },
  {
   "cell_type": "code",
   "execution_count": null,
   "metadata": {},
   "outputs": [],
   "source": []
  }
 ],
 "metadata": {
  "interpreter": {
   "hash": "58ded8811513078dfbc03435577a4e1dd112bc4c1f4f5a5a6bbdf20809023a54"
  },
  "kernelspec": {
   "display_name": "PyCharm (hw2)",
   "language": "python",
   "name": "python3"
  },
  "language_info": {
   "codemirror_mode": {
    "name": "ipython",
    "version": 3
   },
   "file_extension": ".py",
   "mimetype": "text/x-python",
   "name": "python",
   "nbconvert_exporter": "python",
   "pygments_lexer": "ipython3",
   "version": "3.10.4"
  },
  "orig_nbformat": 4
 },
 "nbformat": 4,
 "nbformat_minor": 2
}
